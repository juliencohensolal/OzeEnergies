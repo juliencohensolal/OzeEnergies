{
 "cells": [
  {
   "cell_type": "code",
   "execution_count": 1,
   "metadata": {
    "collapsed": false
   },
   "outputs": [
    {
     "name": "stderr",
     "output_type": "stream",
     "text": [
      "C:\\Anaconda3\\lib\\site-packages\\sklearn\\cross_validation.py:44: DeprecationWarning: This module was deprecated in version 0.18 in favor of the model_selection module into which all the refactored classes and functions are moved. Also note that the interface of the new CV iterators are different from that of this module. This module will be removed in 0.20.\n",
      "  \"This module will be removed in 0.20.\", DeprecationWarning)\n"
     ]
    }
   ],
   "source": [
    "# Imports\n",
    "import pandas as pd\n",
    "import numpy as np\n",
    "from IPython.display import display\n",
    "from sklearn.metrics import mean_squared_error\n",
    "from sklearn.model_selection import KFold, train_test_split\n",
    "import xgboost as xgb\n",
    "import operator\n",
    "import matplotlib.pyplot as plt\n",
    "import seaborn as sns\n",
    "\n",
    "# Definitions\n",
    "pd.set_option('display.float_format', lambda x: '%.3f' % x)\n",
    "%matplotlib inline\n",
    "FOLDS = 4\n",
    "N_JOBS = 6\n",
    "SEED = 2016\n",
    "TEST_SPLIT = 0.2\n",
    "\n",
    "#DATA = \"Base\"\n",
    "#DATA = \"Lags\"\n",
    "#DATA = \"Time\"\n",
    "DATA = \"April\"\n"
   ]
  },
  {
   "cell_type": "code",
   "execution_count": 2,
   "metadata": {
    "collapsed": false
   },
   "outputs": [
    {
     "name": "stdout",
     "output_type": "stream",
     "text": [
      "(2976, 8)\n",
      "(2976, 2)\n",
      "(2232, 8)\n",
      "(2232, 2)\n",
      "(744, 8)\n",
      "(744, 2)\n",
      "(2232, 8)\n",
      "(2232, 2)\n",
      "(2976, 8)\n",
      "(2976, 2)\n"
     ]
    }
   ],
   "source": [
    "# Get data\n",
    "train1 = pd.read_csv(\"clean_data/train1_\" + DATA + \".csv\")\n",
    "train2 = pd.read_csv(\"clean_data/train2_\" + DATA + \".csv\")\n",
    "train3 = pd.read_csv(\"clean_data/train3_\" + DATA + \".csv\")\n",
    "train4 = pd.read_csv(\"clean_data/train4_\" + DATA + \".csv\")\n",
    "train5 = pd.read_csv(\"clean_data/train5_\" + DATA + \".csv\")\n",
    "test = pd.read_csv(\"clean_data/test_\" + DATA + \".csv\")\n",
    "y_1 = pd.read_csv(\"clean_data/y_1.csv\")\n",
    "y_2 = pd.read_csv(\"clean_data/y_2.csv\")\n",
    "y_3 = pd.read_csv(\"clean_data/y_3.csv\")\n",
    "y_4 = pd.read_csv(\"clean_data/y_4.csv\")\n",
    "y_5 = pd.read_csv(\"clean_data/y_5.csv\")\n",
    "\n",
    "test_ids = test.Id\n",
    "\n",
    "print(train1.shape)\n",
    "print(y_1.shape)\n",
    "print(train2.shape)\n",
    "print(y_2.shape)\n",
    "print(train3.shape)\n",
    "print(y_3.shape)\n",
    "print(train4.shape)\n",
    "print(y_4.shape)\n",
    "print(train5.shape)\n",
    "print(y_5.shape)\n",
    "\n",
    "# Split data for final performance check\n",
    "X_train1, X_test1, y_train1, y_test1 = train_test_split(train1, y_1, test_size = TEST_SPLIT, random_state = SEED)\n",
    "X_train2, X_test2, y_train2, y_test2 = train_test_split(train2, y_2, test_size = TEST_SPLIT, random_state = SEED)\n",
    "X_train3, X_test3, y_train3, y_test3 = train_test_split(train3, y_3, test_size = TEST_SPLIT, random_state = SEED)\n",
    "X_train4, X_test4, y_train4, y_test4 = train_test_split(train4, y_4, test_size = TEST_SPLIT, random_state = SEED)\n",
    "X_train5, X_test5, y_train5, y_test5 = train_test_split(train5, y_5, test_size = TEST_SPLIT, random_state = SEED)\n",
    "\n",
    "y_test1.Id_bat = X_test1.Id_bat\n",
    "y_test2.Id_bat = X_test2.Id_bat\n",
    "y_test3.Id_bat = X_test3.Id_bat\n",
    "y_test4.Id_bat = X_test4.Id_bat\n",
    "y_test5.Id_bat = X_test5.Id_bat\n",
    "\n",
    "# Save y_test for later ensembling\n",
    "name1 = \"clean_data/y_test1.csv\"\n",
    "name2 = \"clean_data/y_test2.csv\"\n",
    "name3 = \"clean_data/y_test3.csv\"\n",
    "name4 = \"clean_data/y_test4.csv\"\n",
    "name5 = \"clean_data/y_test5.csv\"\n",
    "\n",
    "pd.DataFrame({\"Id\": y_test1.Id, \"Id_bat\": y_test1.Id_bat, \"y1\": y_test1.y1}, columns = [\"Id\", \"Id_bat\", \"y1\"]).to_csv(name1, index = None)\n",
    "pd.DataFrame({\"Id\": y_test2.Id, \"Id_bat\": y_test2.Id_bat, \"y2\": y_test2.y2}, columns = [\"Id\", \"Id_bat\", \"y2\"]).to_csv(name2, index = None)\n",
    "pd.DataFrame({\"Id\": y_test3.Id, \"Id_bat\": y_test3.Id_bat, \"y3\": y_test3.y3}, columns = [\"Id\", \"Id_bat\", \"y3\"]).to_csv(name3, index = None)\n",
    "pd.DataFrame({\"Id\": y_test4.Id, \"Id_bat\": y_test4.Id_bat, \"y4\": y_test4.y4}, columns = [\"Id\", \"Id_bat\", \"y4\"]).to_csv(name4, index = None)\n",
    "pd.DataFrame({\"Id\": y_test5.Id, \"Id_bat\": y_test5.Id_bat, \"y5\": y_test5.y5}, columns = [\"Id\", \"Id_bat\", \"y5\"]).to_csv(name5, index = None)\n"
   ]
  },
  {
   "cell_type": "code",
   "execution_count": 3,
   "metadata": {
    "collapsed": false
   },
   "outputs": [],
   "source": [
    "# Definitions for XGBoost\n",
    "\n",
    "xg_params = {\n",
    "    \"booster\" : \"gbtree\", \n",
    "    \"eta\" : 0.1,\n",
    "    \"max_depth\" : 12,\n",
    "    \"min_child_weight\" : 2,\n",
    "    \"subsample\" : 0.7,\n",
    "    \"colsample_bytree\" : 0.7,\n",
    "    \"objective\" : \"reg:linear\",\n",
    "}\n",
    "\n",
    "def xgb_mse(preds, dtrain) :\n",
    "    labels = dtrain.get_label()\n",
    "    return (\"mse\", mean_squared_error(preds, labels))\n",
    "\n",
    "def run_xgb(X_train, y_train) : \n",
    "    xg_train = xgb.DMatrix(X_train, label = y_train)    \n",
    "\n",
    "    res = xgb.cv(xg_params, \n",
    "                 xg_train, \n",
    "                 num_boost_round = 100000, \n",
    "                 nfold = FOLDS, \n",
    "                 seed = SEED, \n",
    "                 stratified = False,\n",
    "                 early_stopping_rounds = 100, \n",
    "                 verbose_eval = False, \n",
    "                 feval = xgb_mse, \n",
    "                 maximize = False)\n",
    "\n",
    "    best_nrounds = res.shape[0] - 1\n",
    "    cv_mean = res.iloc[-1, 0]\n",
    "    print(\"CV-Mean : \" + str(cv_mean))\n",
    "    \n",
    "    xg = xgb.train(xg_params, xg_train, best_nrounds)\n",
    "    \n",
    "    print(\"XGBOOST best_iteration \" + str(xg.best_iteration))\n",
    "    return (xg)\n"
   ]
  },
  {
   "cell_type": "code",
   "execution_count": 4,
   "metadata": {
    "collapsed": false
   },
   "outputs": [
    {
     "name": "stdout",
     "output_type": "stream",
     "text": [
      "y1 : \n",
      "CV-Mean : 130.3524305\n",
      "XGBOOST best_iteration 326\n",
      "-----\n",
      "y2 : \n",
      "CV-Mean : 714.5638885\n",
      "XGBOOST best_iteration 442\n",
      "-----\n",
      "y3 : \n",
      "CV-Mean : 45.3970155\n",
      "XGBOOST best_iteration 69\n",
      "-----\n",
      "y4 : \n",
      "CV-Mean : 622.48531325\n",
      "XGBOOST best_iteration 71\n",
      "-----\n",
      "y5 : \n",
      "CV-Mean : 2110.17324825\n",
      "XGBOOST best_iteration 43\n",
      "-----\n"
     ]
    }
   ],
   "source": [
    "# Generate y_test predictions to be able to optimize ensemble weights\n",
    "xg_test1 = xgb.DMatrix(X_test1)\n",
    "xg_test2 = xgb.DMatrix(X_test2)\n",
    "xg_test3 = xgb.DMatrix(X_test3)\n",
    "xg_test4 = xgb.DMatrix(X_test4)\n",
    "xg_test5 = xgb.DMatrix(X_test5)\n",
    "\n",
    "print(\"y1 : \")   \n",
    "xg = run_xgb(X_train1, y_train1.y1)\n",
    "preds_y_test1 = xg.predict(xg_test1)    \n",
    "print(\"-----\")\n",
    "\n",
    "print(\"y2 : \")    \n",
    "xg = run_xgb(X_train2, y_train2.y2)\n",
    "preds_y_test2 = xg.predict(xg_test2)    \n",
    "print(\"-----\")\n",
    "    \n",
    "print(\"y3 : \")    \n",
    "xg = run_xgb(X_train3, y_train3.y3)\n",
    "preds_y_test3 = xg.predict(xg_test3)    \n",
    "print(\"-----\")\n",
    "    \n",
    "print(\"y4 : \")    \n",
    "xg = run_xgb(X_train4, y_train4.y4)\n",
    "preds_y_test4 = xg.predict(xg_test4)    \n",
    "print(\"-----\")\n",
    "    \n",
    "print(\"y5 : \")    \n",
    "xg = run_xgb(X_train5, y_train5.y5)\n",
    "preds_y_test5 = xg.predict(xg_test5)    \n",
    "print(\"-----\")\n"
   ]
  },
  {
   "cell_type": "code",
   "execution_count": 5,
   "metadata": {
    "collapsed": false
   },
   "outputs": [
    {
     "name": "stdout",
     "output_type": "stream",
     "text": [
      "Average XGB MSE on held-out fold for y1 : 101.347419115\n",
      "Average XGB MSE on held-out fold for y2 : 663.701524625\n",
      "Average XGB MSE on held-out fold for y3 : 42.147641363\n",
      "Average XGB MSE on held-out fold for y4 : 666.780808285\n",
      "Average XGB MSE on held-out fold for y5 : 2480.44444412\n"
     ]
    }
   ],
   "source": [
    "# Show MSE on y_test\n",
    "print(\"Average XGB MSE on held-out fold for y1 : \" + str(mean_squared_error(y_test1.y1, preds_y_test1)))\n",
    "print(\"Average XGB MSE on held-out fold for y2 : \" + str(mean_squared_error(y_test2.y2, preds_y_test2)))\n",
    "print(\"Average XGB MSE on held-out fold for y3 : \" + str(mean_squared_error(y_test3.y3, preds_y_test3)))\n",
    "print(\"Average XGB MSE on held-out fold for y4 : \" + str(mean_squared_error(y_test4.y4, preds_y_test4)))\n",
    "print(\"Average XGB MSE on held-out fold for y5 : \" + str(mean_squared_error(y_test5.y5, preds_y_test5)))\n"
   ]
  },
  {
   "cell_type": "code",
   "execution_count": 6,
   "metadata": {
    "collapsed": false
   },
   "outputs": [
    {
     "name": "stdout",
     "output_type": "stream",
     "text": [
      "DATA : April\n",
      "y1 : \n",
      "CV-Mean : 100.848755\n",
      "XGBOOST best_iteration 269\n",
      "-----\n",
      "y2 : \n",
      "CV-Mean : 632.46783425\n",
      "XGBOOST best_iteration 424\n",
      "-----\n",
      "y3 : \n",
      "CV-Mean : 45.10623075\n",
      "XGBOOST best_iteration 48\n",
      "-----\n",
      "y4 : \n",
      "CV-Mean : 533.50810225\n",
      "XGBOOST best_iteration 136\n",
      "-----\n",
      "y5 : \n",
      "CV-Mean : 2147.599182\n",
      "XGBOOST best_iteration 44\n",
      "-----\n"
     ]
    }
   ],
   "source": [
    "# Generate test predictions to be able to optimize ensemble weights\n",
    "print(\"DATA : \" + DATA)\n",
    "xg_test = xgb.DMatrix(test)\n",
    "\n",
    "print(\"y1 : \")   \n",
    "xg = run_xgb(train1, y_1.y1)\n",
    "preds_test1 = xg.predict(xg_test)    \n",
    "print(\"-----\")\n",
    "\n",
    "print(\"y2 : \")    \n",
    "xg = run_xgb(train2, y_2.y2)\n",
    "preds_test2 = xg.predict(xg_test)    \n",
    "print(\"-----\")\n",
    "    \n",
    "print(\"y3 : \")    \n",
    "xg = run_xgb(train3, y_3.y3)\n",
    "preds_test3 = xg.predict(xg_test)    \n",
    "print(\"-----\")\n",
    "    \n",
    "print(\"y4 : \")    \n",
    "xg = run_xgb(train4, y_4.y4)\n",
    "preds_test4 = xg.predict(xg_test)    \n",
    "print(\"-----\")\n",
    "    \n",
    "print(\"y5 : \")    \n",
    "xg = run_xgb(train5, y_5.y5)\n",
    "preds_test5 = xg.predict(xg_test)    \n",
    "print(\"-----\")\n"
   ]
  },
  {
   "cell_type": "code",
   "execution_count": 7,
   "metadata": {
    "collapsed": true
   },
   "outputs": [],
   "source": [
    "# Correct predictions for special outputs\n",
    "preds_test2[test[test.Id_bat == 3].index] = 0\n",
    "preds_test3[test[test.Id_bat != 3].index] = 0\n",
    "preds_test4[test[test.Id_bat == 3].index] = 0"
   ]
  },
  {
   "cell_type": "code",
   "execution_count": 8,
   "metadata": {
    "collapsed": false
   },
   "outputs": [],
   "source": [
    "# Save predictions\n",
    "y_test_name1 = \"y_test_preds/XGBalt1_\" + DATA + \".csv\"\n",
    "y_test_name2 = \"y_test_preds/XGBalt2_\" + DATA + \".csv\"\n",
    "y_test_name3 = \"y_test_preds/XGBalt3_\" + DATA + \".csv\"\n",
    "y_test_name4 = \"y_test_preds/XGBalt4_\" + DATA + \".csv\"\n",
    "y_test_name5 = \"y_test_preds/XGBalt5_\" + DATA + \".csv\"\n",
    "test_name = \"test_preds/XGBalt_\" + DATA + \".csv\"\n",
    "pd.DataFrame({\"Id\": y_test1.Id, \"y1\": preds_y_test1}, columns = [\"Id\", \"y1\"]).to_csv(y_test_name1, index = None, sep = \";\")\n",
    "pd.DataFrame({\"Id\": y_test2.Id, \"y2\": preds_y_test2}, columns = [\"Id\", \"y2\"]).to_csv(y_test_name2, index = None, sep = \";\")\n",
    "pd.DataFrame({\"Id\": y_test3.Id, \"y3\": preds_y_test3}, columns = [\"Id\", \"y3\"]).to_csv(y_test_name3, index = None, sep = \";\")\n",
    "pd.DataFrame({\"Id\": y_test4.Id, \"y4\": preds_y_test4}, columns = [\"Id\", \"y4\"]).to_csv(y_test_name4, index = None, sep = \";\")\n",
    "pd.DataFrame({\"Id\": y_test5.Id, \"y5\": preds_y_test5}, columns = [\"Id\", \"y5\"]).to_csv(y_test_name5, index = None, sep = \";\")\n",
    "pd.DataFrame({\"Id\": test.Id, \"y1\": preds_test1, \"y2\": preds_test2, \"y3\": preds_test3, \"y4\": preds_test4, \"y5\": preds_test5}, \n",
    "             columns = [\"Id\", \"y1\", \"y2\", \"y3\", \"y4\", \"y5\"]).to_csv(test_name, index = None, sep = \";\")"
   ]
  },
  {
   "cell_type": "code",
   "execution_count": 9,
   "metadata": {
    "collapsed": false
   },
   "outputs": [
    {
     "data": {
      "image/png": "[encoded data removed]",
      "text/plain": [
       "<matplotlib.figure.Figure at 0x1f8bec43470>"
      ]
     },
     "metadata": {},
     "output_type": "display_data"
    }
   ],
   "source": [
    "# Visualize most important features\n",
    "importance = xg.get_fscore()\n",
    "importance = sorted(importance.items(), key = operator.itemgetter(1))\n",
    "df = pd.DataFrame(importance, columns=[\"feature\", \"fscore\"])\n",
    "g = df.tail(30).plot(kind = \"barh\", x = \"feature\", y = \"fscore\", legend = False, figsize = (6, 10))\n",
    "plt.title(\"XGBoost Feature Importance\")\n",
    "plt.xlabel(\"relative importance\")\n",
    "plt.show()"
   ]
  },
  {
   "cell_type": "code",
   "execution_count": null,
   "metadata": {
    "collapsed": true
   },
   "outputs": [],
   "source": []
  }
 ],
 "metadata": {
  "kernelspec": {
   "display_name": "Python [Root]",
   "language": "python",
   "name": "Python [Root]"
  },
  "language_info": {
   "codemirror_mode": {
    "name": "ipython",
    "version": 3
   },
   "file_extension": ".py",
   "mimetype": "text/x-python",
   "name": "python",
   "nbconvert_exporter": "python",
   "pygments_lexer": "ipython3",
   "version": "3.5.2"
  }
 },
 "nbformat": 4,
 "nbformat_minor": 0
}
